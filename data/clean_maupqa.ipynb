{
 "cells": [
  {
   "cell_type": "code",
   "execution_count": null,
   "id": "1c1b3db5",
   "metadata": {},
   "outputs": [],
   "source": [
    "import pandas as pd\n",
    "from tqdm.auto import tqdm\n",
    "\n",
    "pd.options.display.max_colwidth = 1000\n",
    "pd.options.display.max_rows = 500\n",
    "\n",
    "tqdm.pandas()"
   ]
  },
  {
   "cell_type": "markdown",
   "id": "e59b998c",
   "metadata": {},
   "source": [
    "## load data"
   ]
  },
  {
   "cell_type": "code",
   "execution_count": null,
   "id": "17a70e5a",
   "metadata": {},
   "outputs": [],
   "source": [
    "df = pd.read_csv('maupqa_v2.1.csv.gz')\n",
    "df[df['relevant']].shape, df.loc[df['relevant'], 'question'].unique().shape"
   ]
  },
  {
   "cell_type": "code",
   "execution_count": null,
   "id": "fab32a28",
   "metadata": {},
   "outputs": [],
   "source": [
    "df['score_unicamp-dl/mt5-3B-mmarco-en-pt'] = df['score_unicamp-dl/mt5-3B-mmarco-en-pt'].apply(lambda x: min(x, 1.0))\n",
    "df['score_unicamp-dl/mt5-3B-mmarco-en-pt'] = df['score_unicamp-dl/mt5-3B-mmarco-en-pt'].apply(lambda x: max(x, 0.0))"
   ]
  },
  {
   "cell_type": "code",
   "execution_count": null,
   "id": "3b6953e9",
   "metadata": {},
   "outputs": [],
   "source": [
    "df['subset'].value_counts()"
   ]
  },
  {
   "cell_type": "markdown",
   "id": "65bb1809",
   "metadata": {},
   "source": [
    "## question blacklist"
   ]
  },
  {
   "cell_type": "code",
   "execution_count": null,
   "id": "d74d06bd",
   "metadata": {},
   "outputs": [],
   "source": [
    "wrong_questions = {\n",
    "    'Co to znaczy?',\n",
    "    'Co się dzieje?',\n",
    "    'Co się stało?',\n",
    "    'O co chodzi?',\n",
    "    'Co masz na myśli?',\n",
    "\n",
    "    'Ile odcinków będzie w 1. sezonie?',\n",
    "    'Kiedy zaczyna się nowy sezon?',\n",
    "    'Kiedy wychodzi nowy film?',\n",
    "    'Kiedy zaczyna się sezon 3?',\n",
    "    'Kto zagra w nowym filmie?',\n",
    "    'Ile odcinków jest w 1. sezonie?',\n",
    "    'Ile odcinków będzie w 2. sezonie?',\n",
    "    'Kiedy zaczyna się sezon 5?',\n",
    "    'Gdzie film został nakręcony?',\n",
    "    'Gdzie kręcono ten film?',\n",
    "    'Kiedy to wyszło?',\n",
    "    'Gdzie kręcono serial?',\n",
    "    'Czy marlon Brando pojawił się w filmie?',\n",
    "    \n",
    "    'Kto napisał tę piosenkę?',\n",
    "    'Kto śpiewa tę piosenkę?',\n",
    "    'Kto zaśpiewał tę piosenkę?',\n",
    "    'Kto śpiewał tę piosenkę?',\n",
    "    'Kto śpiewa piosenkę?',\n",
    "    'Kto napisał piosenkę?',\n",
    "    'Kto zaśpiewał oryginał?',\n",
    "    'Kto tak śpiewa?',\n",
    "    'Kto zaśpiewał piosenkę?',\n",
    "    'Kto stworzył tę piosenkę?',\n",
    "    'Kiedy piosenka została wydana?',\n",
    "    'Kto grał na gitarze?',\n",
    "    'Kiedy pojawiła się ta piosenka?',\n",
    "    'Kto śpiewa piosenkę country?',\n",
    "    'Kto to napisał?',\n",
    "    \n",
    "    'Co przedstawia ten paragraf?',\n",
    "    'Jaki jest temat paragrafu?',\n",
    "    'Co zawiera paragraf?',\n",
    "    'Jakie książki zostały wymienione w paragrafie?',\n",
    "    'Jakie informacje zawiera paragraf?',\n",
    "    'Co opisuje ten paragraf?',\n",
    "    \n",
    "    'Zła definicja.',\n",
    "    'Słaba definicja.',\n",
    "    'Zgodnie z definicją.',\n",
    "    'Błędna definicja.',\n",
    "    \n",
    "    'Co to za hrabstwo?',\n",
    "    'W jakim hrabstwie.',\n",
    "    'W jakim hrabstwie?',\n",
    "    \n",
    "    'Gdzie leży Kalifornia?',\n",
    "    'Gdzie jest Kalifornia?',\n",
    "    \n",
    "    'Gdzie mogę znaleźć pełną instrukcję obsługi do swojego samochodu?',\n",
    "    'Gdzie zaczyna się i kończy rzeka?',\n",
    "    'Co to za imię?',\n",
    "    'Kto chce zostać milionerem?',\n",
    "    'Jaki poziom ewoluuje?',\n",
    "    'To ma znaczenie.',\n",
    "    'Jakie dokumenty są potrzebne?',\n",
    "    'Kto to jest?',\n",
    "    'Skąd się wzięło to wyrażenie?',\n",
    "    'Jakie to uczucie?',\n",
    "    'Co oznacza ustawa?',\n",
    "}\n",
    "\n",
    "df = df[~df['question'].isin(wrong_questions)]\n",
    "df[df['relevant']].shape, df.loc[df['relevant'], 'question'].unique().shape"
   ]
  },
  {
   "cell_type": "markdown",
   "id": "9c04a332",
   "metadata": {},
   "source": [
    "## words blacklist"
   ]
  },
  {
   "cell_type": "code",
   "execution_count": null,
   "id": "08faf5a0",
   "metadata": {},
   "outputs": [],
   "source": [
    "blacklist = {\n",
    "    'definicja', 'zdefiniuj', 'zdefiniować',\n",
    "    'paragraf', 'paragrafu', 'paragrafie',\n",
    "    'pogoda',\n",
    "}\n",
    "\n",
    "def count_blacklist(text):\n",
    "    text = text.lower().replace('.', '').replace(',', '').replace('?', '')\n",
    "    return len(set(text.split(' ')) & blacklist)\n",
    "\n",
    "\n",
    "df['blacklist'] = df['question'].progress_apply(count_blacklist) > 0"
   ]
  },
  {
   "cell_type": "code",
   "execution_count": null,
   "id": "923f35ac",
   "metadata": {},
   "outputs": [],
   "source": [
    "df = df[~df['blacklist']]\n",
    "df[df['relevant']].shape, df.loc[df['relevant'], 'question'].unique().shape"
   ]
  },
  {
   "cell_type": "markdown",
   "id": "5db83a4d",
   "metadata": {},
   "source": [
    "## short question"
   ]
  },
  {
   "cell_type": "code",
   "execution_count": null,
   "id": "f42963ff",
   "metadata": {
    "scrolled": false
   },
   "outputs": [],
   "source": [
    "df['q_clen'] = df['question'].apply(len)\n",
    "df['q_wlen'] = df['question'].apply(lambda x: x.count(' ') + 1)"
   ]
  },
  {
   "cell_type": "code",
   "execution_count": null,
   "id": "fee07f67",
   "metadata": {},
   "outputs": [],
   "source": [
    "df = df[~(df['relevant'] & (df['q_clen'] < 10))]\n",
    "df[df['relevant']].shape, df.loc[df['relevant'], 'question'].unique().shape"
   ]
  },
  {
   "cell_type": "code",
   "execution_count": null,
   "id": "4c20cd65",
   "metadata": {},
   "outputs": [],
   "source": [
    "df = df[~(df['relevant'] & (df['q_wlen'] < 3))]\n",
    "df[df['relevant']].shape, df.loc[df['relevant'], 'question'].unique().shape"
   ]
  },
  {
   "cell_type": "markdown",
   "id": "2318b856",
   "metadata": {},
   "source": [
    "## long question"
   ]
  },
  {
   "cell_type": "code",
   "execution_count": null,
   "id": "2c4320af",
   "metadata": {},
   "outputs": [],
   "source": [
    "df = df[~(df['relevant'] & (df['q_clen'] > 300))]\n",
    "df[df['relevant']].shape, df.loc[df['relevant'], 'question'].unique().shape"
   ]
  },
  {
   "cell_type": "code",
   "execution_count": null,
   "id": "8db3f469",
   "metadata": {},
   "outputs": [],
   "source": [
    "df = df[~(df['relevant'] & (df['q_wlen'] > 50))]\n",
    "df[df['relevant']].shape, df.loc[df['relevant'], 'question'].unique().shape"
   ]
  },
  {
   "cell_type": "markdown",
   "id": "c2f1c5fa",
   "metadata": {},
   "source": [
    "## short passage"
   ]
  },
  {
   "cell_type": "code",
   "execution_count": null,
   "id": "35b343ff",
   "metadata": {},
   "outputs": [],
   "source": [
    "df['p_clen'] = df['passage_text'].apply(len)\n",
    "df['p_wlen'] = df['passage_text'].apply(lambda x: x.count(' ') + 1)"
   ]
  },
  {
   "cell_type": "code",
   "execution_count": null,
   "id": "7975436b",
   "metadata": {},
   "outputs": [],
   "source": [
    "df = df[~(df['relevant'] & (df['p_clen'] < 30))]\n",
    "df[df['relevant']].shape, df.loc[df['relevant'], 'question'].unique().shape"
   ]
  },
  {
   "cell_type": "code",
   "execution_count": null,
   "id": "a3313bb1",
   "metadata": {},
   "outputs": [],
   "source": [
    "df = df[~(df['relevant'] & (df['p_wlen'] < 5))]\n",
    "df[df['relevant']].shape, df.loc[df['relevant'], 'question'].unique().shape"
   ]
  },
  {
   "cell_type": "markdown",
   "id": "1ac7f2af",
   "metadata": {},
   "source": [
    "## long passage"
   ]
  },
  {
   "cell_type": "code",
   "execution_count": null,
   "id": "63791917",
   "metadata": {},
   "outputs": [],
   "source": [
    "df = df[~(df['relevant'] & (df['p_clen'] > 1000))]\n",
    "df[df['relevant']].shape, df.loc[df['relevant'], 'question'].unique().shape"
   ]
  },
  {
   "cell_type": "code",
   "execution_count": null,
   "id": "eab86914",
   "metadata": {},
   "outputs": [],
   "source": [
    "df = df[~(df['relevant'] & (df['p_wlen'] > 150))]\n",
    "df[df['relevant']].shape, df.loc[df['relevant'], 'question'].unique().shape"
   ]
  },
  {
   "cell_type": "markdown",
   "id": "8e0cfb5b",
   "metadata": {},
   "source": [
    "## ce score"
   ]
  },
  {
   "cell_type": "code",
   "execution_count": null,
   "id": "152791f1",
   "metadata": {},
   "outputs": [],
   "source": [
    "df = df[~((df['score_unicamp-dl/mt5-3B-mmarco-en-pt'] < 0.1) & (df['relevant'] == True))]\n",
    "df[df['relevant']].shape, df.loc[df['relevant'], 'question'].unique().shape"
   ]
  },
  {
   "cell_type": "code",
   "execution_count": null,
   "id": "92310c4a",
   "metadata": {},
   "outputs": [],
   "source": [
    "df = df[~((df['score_unicamp-dl/mt5-3B-mmarco-en-pt'] > 0.9) & (df['relevant'] == False))]\n",
    "df[df['relevant']].shape, df.loc[df['relevant'], 'question'].unique().shape"
   ]
  },
  {
   "cell_type": "markdown",
   "id": "64ecda55",
   "metadata": {},
   "source": [
    "## encoder score"
   ]
  },
  {
   "cell_type": "code",
   "execution_count": null,
   "id": "a643257e",
   "metadata": {},
   "outputs": [],
   "source": [
    "df = df[~((df['score_intfloat/multilingual-e5-base'] < 0.75) & (df['relevant'] == True))]\n",
    "df[df['relevant']].shape, df.loc[df['relevant'], 'question'].unique().shape"
   ]
  },
  {
   "cell_type": "code",
   "execution_count": null,
   "id": "f4ef42c6",
   "metadata": {},
   "outputs": [],
   "source": [
    "df = df[~((df['score_intfloat/multilingual-e5-base'] > 0.9) & (df['relevant'] == False))]\n",
    "df[df['relevant']].shape, df.loc[df['relevant'], 'question'].unique().shape"
   ]
  },
  {
   "cell_type": "code",
   "execution_count": null,
   "id": "73c014cf",
   "metadata": {},
   "outputs": [],
   "source": [
    "# too easy\n",
    "df = df[~(df['relevant'] & (df['score_intfloat/multilingual-e5-base'] > 0.95))]\n",
    "df[df['relevant']].shape, df.loc[df['relevant'], 'question'].unique().shape"
   ]
  },
  {
   "cell_type": "markdown",
   "id": "424a457d",
   "metadata": {},
   "source": [
    "## redirect"
   ]
  },
  {
   "cell_type": "code",
   "execution_count": null,
   "id": "42385319",
   "metadata": {},
   "outputs": [],
   "source": [
    "df = df[~(df['relevant'] & df['passage_text'].str.startswith('redirect'))]\n",
    "df = df[~(df['relevant'] & df['passage_text'].str.startswith('Redrect'))]\n",
    "df = df[~(df['relevant'] & df['passage_text'].str.startswith('REDIRECT'))]\n",
    "df = df[~(df['relevant'] & df['passage_text'].str.startswith('PATRZ'))]\n",
    "df[df['relevant']].shape, df.loc[df['relevant'], 'question'].unique().shape"
   ]
  },
  {
   "cell_type": "markdown",
   "id": "e58e33db",
   "metadata": {},
   "source": [
    "## common passages"
   ]
  },
  {
   "cell_type": "code",
   "execution_count": null,
   "id": "35d444e1",
   "metadata": {},
   "outputs": [],
   "source": [
    "passage_counts = df.loc[df['relevant'], 'passage_text'].value_counts().reset_index()\n",
    "common_passages = passage_counts.loc[passage_counts['count'] > 10, 'passage_text'].values\n",
    "\n",
    "df = df[~(df['relevant'] & (df['passage_text'].isin(common_passages)))]\n",
    "df[df['relevant']].shape, df.loc[df['relevant'], 'question'].unique().shape"
   ]
  },
  {
   "cell_type": "markdown",
   "id": "de558e94",
   "metadata": {},
   "source": [
    "## save"
   ]
  },
  {
   "cell_type": "code",
   "execution_count": null,
   "id": "1ad4227e",
   "metadata": {},
   "outputs": [],
   "source": [
    "df[[\n",
    "    'question_id', 'question', 'answers', \n",
    "    'passage_title', 'passage_text', 'relevant', \n",
    "    'passage_source', 'subset',\n",
    "]].to_csv('maupqa_v2.1_clean.csv.gz', index=False)"
   ]
  }
 ],
 "metadata": {
  "kernelspec": {
   "display_name": "Python 3 (ipykernel)",
   "language": "python",
   "name": "python3"
  },
  "language_info": {
   "codemirror_mode": {
    "name": "ipython",
    "version": 3
   },
   "file_extension": ".py",
   "mimetype": "text/x-python",
   "name": "python",
   "nbconvert_exporter": "python",
   "pygments_lexer": "ipython3",
   "version": "3.9.17"
  }
 },
 "nbformat": 4,
 "nbformat_minor": 5
}
